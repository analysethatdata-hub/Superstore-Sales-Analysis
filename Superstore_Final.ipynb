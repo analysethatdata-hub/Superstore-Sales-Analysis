{
 "cells": [
  {
   "cell_type": "markdown",
   "id": "356bddcc-0494-4f74-8ba1-4adc7adb467b",
   "metadata": {},
   "source": [
    "# 1. Import the libraries"
   ]
  },
  {
   "cell_type": "code",
   "execution_count": 2,
   "id": "ce7999cb-245b-431a-a96c-2dd1f79c7f6b",
   "metadata": {},
   "outputs": [],
   "source": [
    "import pandas as pd\n",
    "import numpy as np\n",
    "import matplotlib.pyplot as plt\n",
    "import seaborn as sns"
   ]
  },
  {
   "cell_type": "markdown",
   "id": "d7b47613-1601-4daf-a38b-eae63f377229",
   "metadata": {},
   "source": [
    "# 2. Retrieve the dataset"
   ]
  },
  {
   "cell_type": "code",
   "execution_count": 3,
   "id": "98792849-0e76-4aec-89a3-c0b2da3a0a4c",
   "metadata": {},
   "outputs": [],
   "source": [
    "df=pd.read_csv('Super.csv',sep='\\t')"
   ]
  },
  {
   "cell_type": "markdown",
   "id": "7dc3857e-8c77-42f5-8c48-40fd0619f406",
   "metadata": {},
   "source": [
    "# 3. Data Sampling"
   ]
  },
  {
   "cell_type": "code",
   "execution_count": 4,
   "id": "7e3fbd60-8c6e-48fe-8276-096f66ac0681",
   "metadata": {},
   "outputs": [
    {
     "data": {
      "text/html": [
       "<div>\n",
       "<style scoped>\n",
       "    .dataframe tbody tr th:only-of-type {\n",
       "        vertical-align: middle;\n",
       "    }\n",
       "\n",
       "    .dataframe tbody tr th {\n",
       "        vertical-align: top;\n",
       "    }\n",
       "\n",
       "    .dataframe thead th {\n",
       "        text-align: right;\n",
       "    }\n",
       "</style>\n",
       "<table border=\"1\" class=\"dataframe\">\n",
       "  <thead>\n",
       "    <tr style=\"text-align: right;\">\n",
       "      <th></th>\n",
       "      <th>Row_ID</th>\n",
       "      <th>Order_ID</th>\n",
       "      <th>Order_Date</th>\n",
       "      <th>Ship_Date</th>\n",
       "      <th>Ship_Mode</th>\n",
       "      <th>Customer_ID</th>\n",
       "      <th>Customer_Name</th>\n",
       "      <th>Segment</th>\n",
       "      <th>Country/Region</th>\n",
       "      <th>City</th>\n",
       "      <th>...</th>\n",
       "      <th>Postal_Code</th>\n",
       "      <th>Region</th>\n",
       "      <th>Product_ID</th>\n",
       "      <th>Category</th>\n",
       "      <th>Sub_Category</th>\n",
       "      <th>Product_Name</th>\n",
       "      <th>Sales</th>\n",
       "      <th>Quantity</th>\n",
       "      <th>Discount</th>\n",
       "      <th>Profit</th>\n",
       "    </tr>\n",
       "  </thead>\n",
       "  <tbody>\n",
       "    <tr>\n",
       "      <th>0</th>\n",
       "      <td>1</td>\n",
       "      <td>CA-2020-152156</td>\n",
       "      <td>2020/11/08</td>\n",
       "      <td>2020/11/11</td>\n",
       "      <td>Second Class</td>\n",
       "      <td>CG-12520</td>\n",
       "      <td>Claire Gute</td>\n",
       "      <td>Consumer</td>\n",
       "      <td>United States</td>\n",
       "      <td>Henderson</td>\n",
       "      <td>...</td>\n",
       "      <td>42420.0</td>\n",
       "      <td>South</td>\n",
       "      <td>FUR-BO-10001798</td>\n",
       "      <td>Furniture</td>\n",
       "      <td>Bookcases</td>\n",
       "      <td>Bush Somerset Collection Bookcase</td>\n",
       "      <td>261,96</td>\n",
       "      <td>2</td>\n",
       "      <td>0</td>\n",
       "      <td>41,9136</td>\n",
       "    </tr>\n",
       "    <tr>\n",
       "      <th>1</th>\n",
       "      <td>2</td>\n",
       "      <td>CA-2020-152156</td>\n",
       "      <td>2020/11/08</td>\n",
       "      <td>2020/11/11</td>\n",
       "      <td>Second Class</td>\n",
       "      <td>CG-12520</td>\n",
       "      <td>Claire Gute</td>\n",
       "      <td>Consumer</td>\n",
       "      <td>United States</td>\n",
       "      <td>Henderson</td>\n",
       "      <td>...</td>\n",
       "      <td>42420.0</td>\n",
       "      <td>South</td>\n",
       "      <td>FUR-CH-10000454</td>\n",
       "      <td>Furniture</td>\n",
       "      <td>Chairs</td>\n",
       "      <td>Hon Deluxe Fabric Upholstered Stacking Chairs,...</td>\n",
       "      <td>731,94</td>\n",
       "      <td>3</td>\n",
       "      <td>0</td>\n",
       "      <td>219,582</td>\n",
       "    </tr>\n",
       "    <tr>\n",
       "      <th>2</th>\n",
       "      <td>3</td>\n",
       "      <td>CA-2020-138688</td>\n",
       "      <td>2020/06/12</td>\n",
       "      <td>2020/06/16</td>\n",
       "      <td>Second Class</td>\n",
       "      <td>DV-13045</td>\n",
       "      <td>Darrin Van Huff</td>\n",
       "      <td>Corporate</td>\n",
       "      <td>United States</td>\n",
       "      <td>Los Angeles</td>\n",
       "      <td>...</td>\n",
       "      <td>90036.0</td>\n",
       "      <td>West</td>\n",
       "      <td>OFF-LA-10000240</td>\n",
       "      <td>Office Supplies</td>\n",
       "      <td>Labels</td>\n",
       "      <td>Self-Adhesive Address Labels for Typewriters b...</td>\n",
       "      <td>14,62</td>\n",
       "      <td>2</td>\n",
       "      <td>0</td>\n",
       "      <td>6,8714</td>\n",
       "    </tr>\n",
       "    <tr>\n",
       "      <th>3</th>\n",
       "      <td>4</td>\n",
       "      <td>US-2019-108966</td>\n",
       "      <td>2019/10/11</td>\n",
       "      <td>2019/10/18</td>\n",
       "      <td>Standard Class</td>\n",
       "      <td>SO-20335</td>\n",
       "      <td>Sean O'Donnell</td>\n",
       "      <td>Consumer</td>\n",
       "      <td>United States</td>\n",
       "      <td>Fort Lauderdale</td>\n",
       "      <td>...</td>\n",
       "      <td>33311.0</td>\n",
       "      <td>South</td>\n",
       "      <td>FUR-TA-10000577</td>\n",
       "      <td>Furniture</td>\n",
       "      <td>Tables</td>\n",
       "      <td>Bretford CR4500 Series Slim Rectangular Table</td>\n",
       "      <td>957,5775</td>\n",
       "      <td>5</td>\n",
       "      <td>0,45</td>\n",
       "      <td>-383,031</td>\n",
       "    </tr>\n",
       "    <tr>\n",
       "      <th>4</th>\n",
       "      <td>5</td>\n",
       "      <td>US-2019-108966</td>\n",
       "      <td>2019/10/11</td>\n",
       "      <td>2019/10/18</td>\n",
       "      <td>Standard Class</td>\n",
       "      <td>SO-20335</td>\n",
       "      <td>Sean O'Donnell</td>\n",
       "      <td>Consumer</td>\n",
       "      <td>United States</td>\n",
       "      <td>Fort Lauderdale</td>\n",
       "      <td>...</td>\n",
       "      <td>33311.0</td>\n",
       "      <td>South</td>\n",
       "      <td>OFF-ST-10000760</td>\n",
       "      <td>Office Supplies</td>\n",
       "      <td>Storage</td>\n",
       "      <td>Eldon Fold 'N Roll Cart System</td>\n",
       "      <td>22,368</td>\n",
       "      <td>2</td>\n",
       "      <td>0,2</td>\n",
       "      <td>2,5164</td>\n",
       "    </tr>\n",
       "  </tbody>\n",
       "</table>\n",
       "<p>5 rows × 21 columns</p>\n",
       "</div>"
      ],
      "text/plain": [
       "   Row_ID        Order_ID  Order_Date   Ship_Date       Ship_Mode Customer_ID  \\\n",
       "0       1  CA-2020-152156  2020/11/08  2020/11/11    Second Class    CG-12520   \n",
       "1       2  CA-2020-152156  2020/11/08  2020/11/11    Second Class    CG-12520   \n",
       "2       3  CA-2020-138688  2020/06/12  2020/06/16    Second Class    DV-13045   \n",
       "3       4  US-2019-108966  2019/10/11  2019/10/18  Standard Class    SO-20335   \n",
       "4       5  US-2019-108966  2019/10/11  2019/10/18  Standard Class    SO-20335   \n",
       "\n",
       "     Customer_Name    Segment Country/Region             City  ...  \\\n",
       "0      Claire Gute   Consumer  United States        Henderson  ...   \n",
       "1      Claire Gute   Consumer  United States        Henderson  ...   \n",
       "2  Darrin Van Huff  Corporate  United States      Los Angeles  ...   \n",
       "3   Sean O'Donnell   Consumer  United States  Fort Lauderdale  ...   \n",
       "4   Sean O'Donnell   Consumer  United States  Fort Lauderdale  ...   \n",
       "\n",
       "  Postal_Code  Region       Product_ID         Category Sub_Category  \\\n",
       "0     42420.0   South  FUR-BO-10001798        Furniture    Bookcases   \n",
       "1     42420.0   South  FUR-CH-10000454        Furniture       Chairs   \n",
       "2     90036.0    West  OFF-LA-10000240  Office Supplies       Labels   \n",
       "3     33311.0   South  FUR-TA-10000577        Furniture       Tables   \n",
       "4     33311.0   South  OFF-ST-10000760  Office Supplies      Storage   \n",
       "\n",
       "                                        Product_Name     Sales Quantity  \\\n",
       "0                  Bush Somerset Collection Bookcase    261,96        2   \n",
       "1  Hon Deluxe Fabric Upholstered Stacking Chairs,...    731,94        3   \n",
       "2  Self-Adhesive Address Labels for Typewriters b...     14,62        2   \n",
       "3      Bretford CR4500 Series Slim Rectangular Table  957,5775        5   \n",
       "4                     Eldon Fold 'N Roll Cart System    22,368        2   \n",
       "\n",
       "   Discount    Profit  \n",
       "0         0   41,9136  \n",
       "1         0   219,582  \n",
       "2         0    6,8714  \n",
       "3      0,45  -383,031  \n",
       "4       0,2    2,5164  \n",
       "\n",
       "[5 rows x 21 columns]"
      ]
     },
     "execution_count": 4,
     "metadata": {},
     "output_type": "execute_result"
    }
   ],
   "source": [
    "df.head()"
   ]
  },
  {
   "cell_type": "code",
   "execution_count": 5,
   "id": "e1f7c6e6-84c9-4792-b88b-6b6117f39dbd",
   "metadata": {},
   "outputs": [
    {
     "name": "stdout",
     "output_type": "stream",
     "text": [
      "<class 'pandas.core.frame.DataFrame'>\n",
      "RangeIndex: 9994 entries, 0 to 9993\n",
      "Data columns (total 21 columns):\n",
      " #   Column          Non-Null Count  Dtype  \n",
      "---  ------          --------------  -----  \n",
      " 0   Row_ID          9994 non-null   int64  \n",
      " 1   Order_ID        9994 non-null   object \n",
      " 2   Order_Date      9994 non-null   object \n",
      " 3   Ship_Date       9994 non-null   object \n",
      " 4   Ship_Mode       9994 non-null   object \n",
      " 5   Customer_ID     9994 non-null   object \n",
      " 6   Customer_Name   9994 non-null   object \n",
      " 7   Segment         9994 non-null   object \n",
      " 8   Country/Region  9994 non-null   object \n",
      " 9   City            9994 non-null   object \n",
      " 10  State           9994 non-null   object \n",
      " 11  Postal_Code     9983 non-null   float64\n",
      " 12  Region          9994 non-null   object \n",
      " 13  Product_ID      9994 non-null   object \n",
      " 14  Category        9994 non-null   object \n",
      " 15  Sub_Category    9994 non-null   object \n",
      " 16  Product_Name    9994 non-null   object \n",
      " 17  Sales           9994 non-null   object \n",
      " 18  Quantity        9994 non-null   int64  \n",
      " 19  Discount        9994 non-null   object \n",
      " 20  Profit          9994 non-null   object \n",
      "dtypes: float64(1), int64(2), object(18)\n",
      "memory usage: 1.6+ MB\n"
     ]
    }
   ],
   "source": [
    "df.info()"
   ]
  },
  {
   "cell_type": "markdown",
   "id": "798115b5-386b-46d0-b9ee-d5dcdc4076fd",
   "metadata": {},
   "source": [
    "# 4. Check/Handle Null Values"
   ]
  },
  {
   "cell_type": "code",
   "execution_count": 6,
   "id": "68571d6d-56de-46e9-9753-bcc6f3c8226d",
   "metadata": {},
   "outputs": [
    {
     "data": {
      "text/plain": [
       "Row_ID             0\n",
       "Order_ID           0\n",
       "Order_Date         0\n",
       "Ship_Date          0\n",
       "Ship_Mode          0\n",
       "Customer_ID        0\n",
       "Customer_Name      0\n",
       "Segment            0\n",
       "Country/Region     0\n",
       "City               0\n",
       "State              0\n",
       "Postal_Code       11\n",
       "Region             0\n",
       "Product_ID         0\n",
       "Category           0\n",
       "Sub_Category       0\n",
       "Product_Name       0\n",
       "Sales              0\n",
       "Quantity           0\n",
       "Discount           0\n",
       "Profit             0\n",
       "dtype: int64"
      ]
     },
     "execution_count": 6,
     "metadata": {},
     "output_type": "execute_result"
    }
   ],
   "source": [
    "df.isna().sum()"
   ]
  },
  {
   "cell_type": "code",
   "execution_count": 7,
   "id": "114e0653-0ff0-4a2b-8903-0ac5a44b6fb3",
   "metadata": {},
   "outputs": [
    {
     "data": {
      "image/png": "[encoded data removed]",
      "text/plain": [
       "<Figure size 640x480 with 2 Axes>"
      ]
     },
     "metadata": {},
     "output_type": "display_data"
    }
   ],
   "source": [
    "sns.heatmap(df.isna())\n",
    "plt.show()"
   ]
  },
  {
   "cell_type": "code",
   "execution_count": 8,
   "id": "99773fc4-ca1e-4806-a52f-62bea65703ae",
   "metadata": {},
   "outputs": [],
   "source": [
    "df.dropna(inplace=True)"
   ]
  },
  {
   "cell_type": "code",
   "execution_count": 9,
   "id": "560e35b7-329f-4935-af7b-c7abfedda455",
   "metadata": {},
   "outputs": [
    {
     "data": {
      "text/plain": [
       "Row_ID            0\n",
       "Order_ID          0\n",
       "Order_Date        0\n",
       "Ship_Date         0\n",
       "Ship_Mode         0\n",
       "Customer_ID       0\n",
       "Customer_Name     0\n",
       "Segment           0\n",
       "Country/Region    0\n",
       "City              0\n",
       "State             0\n",
       "Postal_Code       0\n",
       "Region            0\n",
       "Product_ID        0\n",
       "Category          0\n",
       "Sub_Category      0\n",
       "Product_Name      0\n",
       "Sales             0\n",
       "Quantity          0\n",
       "Discount          0\n",
       "Profit            0\n",
       "dtype: int64"
      ]
     },
     "execution_count": 9,
     "metadata": {},
     "output_type": "execute_result"
    }
   ],
   "source": [
    "df.isna().sum()"
   ]
  },
  {
   "cell_type": "markdown",
   "id": "297cac15-509f-4c01-874f-ca01d598f432",
   "metadata": {},
   "source": [
    "# 5. Check/Handle Duplicates"
   ]
  },
  {
   "cell_type": "code",
   "execution_count": 10,
   "id": "b8f8cdec-d957-46e6-81b8-d4dadd8d03e2",
   "metadata": {},
   "outputs": [
    {
     "name": "stdout",
     "output_type": "stream",
     "text": [
      "Are there any duplicates : False\n"
     ]
    }
   ],
   "source": [
    "print('Are there any duplicates :',df.duplicated().any())"
   ]
  },
  {
   "cell_type": "markdown",
   "id": "1ac86669-b603-499e-8e6d-969331962cd9",
   "metadata": {},
   "source": [
    "# 6. Data Preprocessing"
   ]
  },
  {
   "cell_type": "markdown",
   "id": "8a8262e4-0dc8-47f9-a2bf-143e72f3fb6f",
   "metadata": {},
   "source": [
    "#### 6.1 **Create proper date format**"
   ]
  },
  {
   "cell_type": "code",
   "execution_count": 11,
   "id": "856fe149-5339-4c74-a364-661c37912efd",
   "metadata": {},
   "outputs": [
    {
     "data": {
      "text/html": [
       "<div>\n",
       "<style scoped>\n",
       "    .dataframe tbody tr th:only-of-type {\n",
       "        vertical-align: middle;\n",
       "    }\n",
       "\n",
       "    .dataframe tbody tr th {\n",
       "        vertical-align: top;\n",
       "    }\n",
       "\n",
       "    .dataframe thead th {\n",
       "        text-align: right;\n",
       "    }\n",
       "</style>\n",
       "<table border=\"1\" class=\"dataframe\">\n",
       "  <thead>\n",
       "    <tr style=\"text-align: right;\">\n",
       "      <th></th>\n",
       "      <th>Row_ID</th>\n",
       "      <th>Order_ID</th>\n",
       "      <th>Order_Date</th>\n",
       "      <th>Ship_Date</th>\n",
       "      <th>Ship_Mode</th>\n",
       "      <th>Customer_ID</th>\n",
       "      <th>Customer_Name</th>\n",
       "      <th>Segment</th>\n",
       "      <th>Country/Region</th>\n",
       "      <th>City</th>\n",
       "      <th>...</th>\n",
       "      <th>Postal_Code</th>\n",
       "      <th>Region</th>\n",
       "      <th>Product_ID</th>\n",
       "      <th>Category</th>\n",
       "      <th>Sub_Category</th>\n",
       "      <th>Product_Name</th>\n",
       "      <th>Sales</th>\n",
       "      <th>Quantity</th>\n",
       "      <th>Discount</th>\n",
       "      <th>Profit</th>\n",
       "    </tr>\n",
       "  </thead>\n",
       "  <tbody>\n",
       "    <tr>\n",
       "      <th>0</th>\n",
       "      <td>1</td>\n",
       "      <td>CA-2020-152156</td>\n",
       "      <td>2020/11/08</td>\n",
       "      <td>2020/11/11</td>\n",
       "      <td>Second Class</td>\n",
       "      <td>CG-12520</td>\n",
       "      <td>Claire Gute</td>\n",
       "      <td>Consumer</td>\n",
       "      <td>United States</td>\n",
       "      <td>Henderson</td>\n",
       "      <td>...</td>\n",
       "      <td>42420.0</td>\n",
       "      <td>South</td>\n",
       "      <td>FUR-BO-10001798</td>\n",
       "      <td>Furniture</td>\n",
       "      <td>Bookcases</td>\n",
       "      <td>Bush Somerset Collection Bookcase</td>\n",
       "      <td>261,96</td>\n",
       "      <td>2</td>\n",
       "      <td>0</td>\n",
       "      <td>41,9136</td>\n",
       "    </tr>\n",
       "    <tr>\n",
       "      <th>1</th>\n",
       "      <td>2</td>\n",
       "      <td>CA-2020-152156</td>\n",
       "      <td>2020/11/08</td>\n",
       "      <td>2020/11/11</td>\n",
       "      <td>Second Class</td>\n",
       "      <td>CG-12520</td>\n",
       "      <td>Claire Gute</td>\n",
       "      <td>Consumer</td>\n",
       "      <td>United States</td>\n",
       "      <td>Henderson</td>\n",
       "      <td>...</td>\n",
       "      <td>42420.0</td>\n",
       "      <td>South</td>\n",
       "      <td>FUR-CH-10000454</td>\n",
       "      <td>Furniture</td>\n",
       "      <td>Chairs</td>\n",
       "      <td>Hon Deluxe Fabric Upholstered Stacking Chairs,...</td>\n",
       "      <td>731,94</td>\n",
       "      <td>3</td>\n",
       "      <td>0</td>\n",
       "      <td>219,582</td>\n",
       "    </tr>\n",
       "  </tbody>\n",
       "</table>\n",
       "<p>2 rows × 21 columns</p>\n",
       "</div>"
      ],
      "text/plain": [
       "   Row_ID        Order_ID  Order_Date   Ship_Date     Ship_Mode Customer_ID  \\\n",
       "0       1  CA-2020-152156  2020/11/08  2020/11/11  Second Class    CG-12520   \n",
       "1       2  CA-2020-152156  2020/11/08  2020/11/11  Second Class    CG-12520   \n",
       "\n",
       "  Customer_Name   Segment Country/Region       City  ... Postal_Code  Region  \\\n",
       "0   Claire Gute  Consumer  United States  Henderson  ...     42420.0   South   \n",
       "1   Claire Gute  Consumer  United States  Henderson  ...     42420.0   South   \n",
       "\n",
       "        Product_ID   Category Sub_Category  \\\n",
       "0  FUR-BO-10001798  Furniture    Bookcases   \n",
       "1  FUR-CH-10000454  Furniture       Chairs   \n",
       "\n",
       "                                        Product_Name   Sales Quantity  \\\n",
       "0                  Bush Somerset Collection Bookcase  261,96        2   \n",
       "1  Hon Deluxe Fabric Upholstered Stacking Chairs,...  731,94        3   \n",
       "\n",
       "   Discount   Profit  \n",
       "0         0  41,9136  \n",
       "1         0  219,582  \n",
       "\n",
       "[2 rows x 21 columns]"
      ]
     },
     "execution_count": 11,
     "metadata": {},
     "output_type": "execute_result"
    }
   ],
   "source": [
    "df.head(2)"
   ]
  },
  {
   "cell_type": "code",
   "execution_count": 12,
   "id": "9386b23e-a04d-4bea-9772-43f18f75a990",
   "metadata": {},
   "outputs": [],
   "source": [
    "df['Order_Date']=pd.to_datetime(df['Order_Date'])"
   ]
  },
  {
   "cell_type": "code",
   "execution_count": 13,
   "id": "d1bd5829-d8ce-4f94-b280-3a128bdcda90",
   "metadata": {},
   "outputs": [
    {
     "name": "stdout",
     "output_type": "stream",
     "text": [
      "<class 'pandas.core.frame.DataFrame'>\n",
      "Index: 9983 entries, 0 to 9993\n",
      "Data columns (total 21 columns):\n",
      " #   Column          Non-Null Count  Dtype         \n",
      "---  ------          --------------  -----         \n",
      " 0   Row_ID          9983 non-null   int64         \n",
      " 1   Order_ID        9983 non-null   object        \n",
      " 2   Order_Date      9983 non-null   datetime64[ns]\n",
      " 3   Ship_Date       9983 non-null   object        \n",
      " 4   Ship_Mode       9983 non-null   object        \n",
      " 5   Customer_ID     9983 non-null   object        \n",
      " 6   Customer_Name   9983 non-null   object        \n",
      " 7   Segment         9983 non-null   object        \n",
      " 8   Country/Region  9983 non-null   object        \n",
      " 9   City            9983 non-null   object        \n",
      " 10  State           9983 non-null   object        \n",
      " 11  Postal_Code     9983 non-null   float64       \n",
      " 12  Region          9983 non-null   object        \n",
      " 13  Product_ID      9983 non-null   object        \n",
      " 14  Category        9983 non-null   object        \n",
      " 15  Sub_Category    9983 non-null   object        \n",
      " 16  Product_Name    9983 non-null   object        \n",
      " 17  Sales           9983 non-null   object        \n",
      " 18  Quantity        9983 non-null   int64         \n",
      " 19  Discount        9983 non-null   object        \n",
      " 20  Profit          9983 non-null   object        \n",
      "dtypes: datetime64[ns](1), float64(1), int64(2), object(17)\n",
      "memory usage: 1.7+ MB\n"
     ]
    }
   ],
   "source": [
    "df.info()"
   ]
  },
  {
   "cell_type": "code",
   "execution_count": 14,
   "id": "fb197afb-89c9-4ee6-8ff5-0ad5de5e6e5e",
   "metadata": {},
   "outputs": [],
   "source": [
    "df['Ship_Date']=pd.to_datetime(df['Ship_Date'])"
   ]
  },
  {
   "cell_type": "code",
   "execution_count": 15,
   "id": "14be4a6c-22d5-422f-8b15-5bf6c4a8e00a",
   "metadata": {},
   "outputs": [
    {
     "name": "stdout",
     "output_type": "stream",
     "text": [
      "<class 'pandas.core.frame.DataFrame'>\n",
      "Index: 9983 entries, 0 to 9993\n",
      "Data columns (total 21 columns):\n",
      " #   Column          Non-Null Count  Dtype         \n",
      "---  ------          --------------  -----         \n",
      " 0   Row_ID          9983 non-null   int64         \n",
      " 1   Order_ID        9983 non-null   object        \n",
      " 2   Order_Date      9983 non-null   datetime64[ns]\n",
      " 3   Ship_Date       9983 non-null   datetime64[ns]\n",
      " 4   Ship_Mode       9983 non-null   object        \n",
      " 5   Customer_ID     9983 non-null   object        \n",
      " 6   Customer_Name   9983 non-null   object        \n",
      " 7   Segment         9983 non-null   object        \n",
      " 8   Country/Region  9983 non-null   object        \n",
      " 9   City            9983 non-null   object        \n",
      " 10  State           9983 non-null   object        \n",
      " 11  Postal_Code     9983 non-null   float64       \n",
      " 12  Region          9983 non-null   object        \n",
      " 13  Product_ID      9983 non-null   object        \n",
      " 14  Category        9983 non-null   object        \n",
      " 15  Sub_Category    9983 non-null   object        \n",
      " 16  Product_Name    9983 non-null   object        \n",
      " 17  Sales           9983 non-null   object        \n",
      " 18  Quantity        9983 non-null   int64         \n",
      " 19  Discount        9983 non-null   object        \n",
      " 20  Profit          9983 non-null   object        \n",
      "dtypes: datetime64[ns](2), float64(1), int64(2), object(16)\n",
      "memory usage: 1.7+ MB\n"
     ]
    }
   ],
   "source": [
    "df.info()"
   ]
  },
  {
   "cell_type": "code",
   "execution_count": 16,
   "id": "85418dd0-31a0-4e3d-94fb-2f28e3baf208",
   "metadata": {},
   "outputs": [],
   "source": [
    "df['Order_Yr']=df['Order_Date'].dt.year"
   ]
  },
  {
   "cell_type": "code",
   "execution_count": 17,
   "id": "4859b9bc-e6a2-4e72-9835-0bdeea5fed6e",
   "metadata": {},
   "outputs": [],
   "source": [
    "df['Order_Mon']=df['Order_Date'].dt.month"
   ]
  },
  {
   "cell_type": "markdown",
   "id": "e6c5f83b-74cb-4399-8057-40a7c4cff786",
   "metadata": {},
   "source": [
    "#### **6.2 Convert string data type to float for Sales and other numerical columns**"
   ]
  },
  {
   "cell_type": "code",
   "execution_count": 18,
   "id": "cf8d43bc-94d3-4c65-9fdb-8384b63612db",
   "metadata": {},
   "outputs": [],
   "source": [
    "df['Sales']=df['Sales'].str.replace(',','.').astype('float')"
   ]
  },
  {
   "cell_type": "code",
   "execution_count": 19,
   "id": "95bd97a4-21e7-4a56-955e-f1c4e5640387",
   "metadata": {},
   "outputs": [
    {
     "name": "stdout",
     "output_type": "stream",
     "text": [
      "<class 'pandas.core.frame.DataFrame'>\n",
      "Index: 9983 entries, 0 to 9993\n",
      "Data columns (total 23 columns):\n",
      " #   Column          Non-Null Count  Dtype         \n",
      "---  ------          --------------  -----         \n",
      " 0   Row_ID          9983 non-null   int64         \n",
      " 1   Order_ID        9983 non-null   object        \n",
      " 2   Order_Date      9983 non-null   datetime64[ns]\n",
      " 3   Ship_Date       9983 non-null   datetime64[ns]\n",
      " 4   Ship_Mode       9983 non-null   object        \n",
      " 5   Customer_ID     9983 non-null   object        \n",
      " 6   Customer_Name   9983 non-null   object        \n",
      " 7   Segment         9983 non-null   object        \n",
      " 8   Country/Region  9983 non-null   object        \n",
      " 9   City            9983 non-null   object        \n",
      " 10  State           9983 non-null   object        \n",
      " 11  Postal_Code     9983 non-null   float64       \n",
      " 12  Region          9983 non-null   object        \n",
      " 13  Product_ID      9983 non-null   object        \n",
      " 14  Category        9983 non-null   object        \n",
      " 15  Sub_Category    9983 non-null   object        \n",
      " 16  Product_Name    9983 non-null   object        \n",
      " 17  Sales           9983 non-null   float64       \n",
      " 18  Quantity        9983 non-null   int64         \n",
      " 19  Discount        9983 non-null   object        \n",
      " 20  Profit          9983 non-null   object        \n",
      " 21  Order_Yr        9983 non-null   int32         \n",
      " 22  Order_Mon       9983 non-null   int32         \n",
      "dtypes: datetime64[ns](2), float64(2), int32(2), int64(2), object(15)\n",
      "memory usage: 1.8+ MB\n"
     ]
    }
   ],
   "source": [
    "df.info()"
   ]
  },
  {
   "cell_type": "code",
   "execution_count": 20,
   "id": "4c4e6958-44a4-4042-97ce-c839e4b8dfad",
   "metadata": {},
   "outputs": [],
   "source": [
    "df['Profit']=df['Profit'].str.replace(',','.').astype('float')"
   ]
  },
  {
   "cell_type": "code",
   "execution_count": 21,
   "id": "c3955232-c30b-48c5-97d3-e0949a4b54d5",
   "metadata": {},
   "outputs": [
    {
     "name": "stdout",
     "output_type": "stream",
     "text": [
      "<class 'pandas.core.frame.DataFrame'>\n",
      "Index: 9983 entries, 0 to 9993\n",
      "Data columns (total 23 columns):\n",
      " #   Column          Non-Null Count  Dtype         \n",
      "---  ------          --------------  -----         \n",
      " 0   Row_ID          9983 non-null   int64         \n",
      " 1   Order_ID        9983 non-null   object        \n",
      " 2   Order_Date      9983 non-null   datetime64[ns]\n",
      " 3   Ship_Date       9983 non-null   datetime64[ns]\n",
      " 4   Ship_Mode       9983 non-null   object        \n",
      " 5   Customer_ID     9983 non-null   object        \n",
      " 6   Customer_Name   9983 non-null   object        \n",
      " 7   Segment         9983 non-null   object        \n",
      " 8   Country/Region  9983 non-null   object        \n",
      " 9   City            9983 non-null   object        \n",
      " 10  State           9983 non-null   object        \n",
      " 11  Postal_Code     9983 non-null   float64       \n",
      " 12  Region          9983 non-null   object        \n",
      " 13  Product_ID      9983 non-null   object        \n",
      " 14  Category        9983 non-null   object        \n",
      " 15  Sub_Category    9983 non-null   object        \n",
      " 16  Product_Name    9983 non-null   object        \n",
      " 17  Sales           9983 non-null   float64       \n",
      " 18  Quantity        9983 non-null   int64         \n",
      " 19  Discount        9983 non-null   object        \n",
      " 20  Profit          9983 non-null   float64       \n",
      " 21  Order_Yr        9983 non-null   int32         \n",
      " 22  Order_Mon       9983 non-null   int32         \n",
      "dtypes: datetime64[ns](2), float64(3), int32(2), int64(2), object(14)\n",
      "memory usage: 1.8+ MB\n"
     ]
    }
   ],
   "source": [
    "df.info()"
   ]
  },
  {
   "cell_type": "markdown",
   "id": "16bb47a4-1733-4216-be01-8198898c346f",
   "metadata": {},
   "source": [
    "#### 6.3 **Below we derive the cost of sales column**"
   ]
  },
  {
   "cell_type": "code",
   "execution_count": 22,
   "id": "e9d0c106-9a48-4df8-9062-b8d13c45971a",
   "metadata": {},
   "outputs": [],
   "source": [
    "df['cost_of_sales']=df['Sales']-df['Profit']"
   ]
  },
  {
   "cell_type": "code",
   "execution_count": 23,
   "id": "17582965-57ba-47b8-9f9f-29aa3532bf40",
   "metadata": {},
   "outputs": [
    {
     "name": "stdout",
     "output_type": "stream",
     "text": [
      "<class 'pandas.core.frame.DataFrame'>\n",
      "Index: 9983 entries, 0 to 9993\n",
      "Data columns (total 24 columns):\n",
      " #   Column          Non-Null Count  Dtype         \n",
      "---  ------          --------------  -----         \n",
      " 0   Row_ID          9983 non-null   int64         \n",
      " 1   Order_ID        9983 non-null   object        \n",
      " 2   Order_Date      9983 non-null   datetime64[ns]\n",
      " 3   Ship_Date       9983 non-null   datetime64[ns]\n",
      " 4   Ship_Mode       9983 non-null   object        \n",
      " 5   Customer_ID     9983 non-null   object        \n",
      " 6   Customer_Name   9983 non-null   object        \n",
      " 7   Segment         9983 non-null   object        \n",
      " 8   Country/Region  9983 non-null   object        \n",
      " 9   City            9983 non-null   object        \n",
      " 10  State           9983 non-null   object        \n",
      " 11  Postal_Code     9983 non-null   float64       \n",
      " 12  Region          9983 non-null   object        \n",
      " 13  Product_ID      9983 non-null   object        \n",
      " 14  Category        9983 non-null   object        \n",
      " 15  Sub_Category    9983 non-null   object        \n",
      " 16  Product_Name    9983 non-null   object        \n",
      " 17  Sales           9983 non-null   float64       \n",
      " 18  Quantity        9983 non-null   int64         \n",
      " 19  Discount        9983 non-null   object        \n",
      " 20  Profit          9983 non-null   float64       \n",
      " 21  Order_Yr        9983 non-null   int32         \n",
      " 22  Order_Mon       9983 non-null   int32         \n",
      " 23  cost_of_sales   9983 non-null   float64       \n",
      "dtypes: datetime64[ns](2), float64(4), int32(2), int64(2), object(14)\n",
      "memory usage: 1.8+ MB\n"
     ]
    }
   ],
   "source": [
    "df.info()"
   ]
  },
  {
   "cell_type": "markdown",
   "id": "20a2338a-0008-439d-b6dc-d75e3de7fa60",
   "metadata": {},
   "source": [
    "#### 6.4 **Drop columns we dont use,to reduce the dataframe size**"
   ]
  },
  {
   "cell_type": "code",
   "execution_count": 24,
   "id": "eee7199e-7ca0-4cfa-aa62-a85112038a8e",
   "metadata": {},
   "outputs": [],
   "source": [
    "df.drop(['Row_ID','Postal_Code','Discount'],axis=1,inplace=True)"
   ]
  },
  {
   "cell_type": "markdown",
   "id": "5c5120ad-ef58-4d22-b88e-f7cc980179ce",
   "metadata": {},
   "source": [
    "#### 6.5 **New dataframe**"
   ]
  },
  {
   "cell_type": "code",
   "execution_count": 25,
   "id": "448edef7-f7ec-47b7-be21-0327fd79cf6d",
   "metadata": {},
   "outputs": [
    {
     "name": "stdout",
     "output_type": "stream",
     "text": [
      "<class 'pandas.core.frame.DataFrame'>\n",
      "Index: 9983 entries, 0 to 9993\n",
      "Data columns (total 21 columns):\n",
      " #   Column          Non-Null Count  Dtype         \n",
      "---  ------          --------------  -----         \n",
      " 0   Order_ID        9983 non-null   object        \n",
      " 1   Order_Date      9983 non-null   datetime64[ns]\n",
      " 2   Ship_Date       9983 non-null   datetime64[ns]\n",
      " 3   Ship_Mode       9983 non-null   object        \n",
      " 4   Customer_ID     9983 non-null   object        \n",
      " 5   Customer_Name   9983 non-null   object        \n",
      " 6   Segment         9983 non-null   object        \n",
      " 7   Country/Region  9983 non-null   object        \n",
      " 8   City            9983 non-null   object        \n",
      " 9   State           9983 non-null   object        \n",
      " 10  Region          9983 non-null   object        \n",
      " 11  Product_ID      9983 non-null   object        \n",
      " 12  Category        9983 non-null   object        \n",
      " 13  Sub_Category    9983 non-null   object        \n",
      " 14  Product_Name    9983 non-null   object        \n",
      " 15  Sales           9983 non-null   float64       \n",
      " 16  Quantity        9983 non-null   int64         \n",
      " 17  Profit          9983 non-null   float64       \n",
      " 18  Order_Yr        9983 non-null   int32         \n",
      " 19  Order_Mon       9983 non-null   int32         \n",
      " 20  cost_of_sales   9983 non-null   float64       \n",
      "dtypes: datetime64[ns](2), float64(3), int32(2), int64(1), object(13)\n",
      "memory usage: 1.6+ MB\n"
     ]
    }
   ],
   "source": [
    "df.info()"
   ]
  },
  {
   "cell_type": "markdown",
   "id": "b56794a2-fc91-4c39-8e7a-35e4c0d082dd",
   "metadata": {},
   "source": [
    "#### 6.6 **View of the statistical figures for numerical columns**"
   ]
  },
  {
   "cell_type": "code",
   "execution_count": 26,
   "id": "354bb31d-0a9e-4e6f-b2ca-f8279f8312f9",
   "metadata": {},
   "outputs": [
    {
     "data": {
      "text/html": [
       "<div>\n",
       "<style scoped>\n",
       "    .dataframe tbody tr th:only-of-type {\n",
       "        vertical-align: middle;\n",
       "    }\n",
       "\n",
       "    .dataframe tbody tr th {\n",
       "        vertical-align: top;\n",
       "    }\n",
       "\n",
       "    .dataframe thead th {\n",
       "        text-align: right;\n",
       "    }\n",
       "</style>\n",
       "<table border=\"1\" class=\"dataframe\">\n",
       "  <thead>\n",
       "    <tr style=\"text-align: right;\">\n",
       "      <th></th>\n",
       "      <th>Order_Date</th>\n",
       "      <th>Ship_Date</th>\n",
       "      <th>Sales</th>\n",
       "      <th>Quantity</th>\n",
       "      <th>Profit</th>\n",
       "      <th>Order_Yr</th>\n",
       "      <th>Order_Mon</th>\n",
       "      <th>cost_of_sales</th>\n",
       "    </tr>\n",
       "  </thead>\n",
       "  <tbody>\n",
       "    <tr>\n",
       "      <th>count</th>\n",
       "      <td>9983</td>\n",
       "      <td>9983</td>\n",
       "      <td>9983.000000</td>\n",
       "      <td>9983.000000</td>\n",
       "      <td>9983.000000</td>\n",
       "      <td>9983.000000</td>\n",
       "      <td>9983.000000</td>\n",
       "      <td>9983.000000</td>\n",
       "    </tr>\n",
       "    <tr>\n",
       "      <th>mean</th>\n",
       "      <td>2020-04-29 21:46:43.045176832</td>\n",
       "      <td>2020-05-03 20:46:42.684563712</td>\n",
       "      <td>229.216818</td>\n",
       "      <td>3.788741</td>\n",
       "      <td>28.463592</td>\n",
       "      <td>2019.721627</td>\n",
       "      <td>7.813783</td>\n",
       "      <td>200.753225</td>\n",
       "    </tr>\n",
       "    <tr>\n",
       "      <th>min</th>\n",
       "      <td>2018-01-03 00:00:00</td>\n",
       "      <td>2018-01-07 00:00:00</td>\n",
       "      <td>0.444000</td>\n",
       "      <td>1.000000</td>\n",
       "      <td>-6599.978000</td>\n",
       "      <td>2018.000000</td>\n",
       "      <td>1.000000</td>\n",
       "      <td>0.554400</td>\n",
       "    </tr>\n",
       "    <tr>\n",
       "      <th>25%</th>\n",
       "      <td>2019-05-22 00:00:00</td>\n",
       "      <td>2019-05-26 00:00:00</td>\n",
       "      <td>17.280000</td>\n",
       "      <td>2.000000</td>\n",
       "      <td>1.727100</td>\n",
       "      <td>2019.000000</td>\n",
       "      <td>5.000000</td>\n",
       "      <td>12.688200</td>\n",
       "    </tr>\n",
       "    <tr>\n",
       "      <th>50%</th>\n",
       "      <td>2020-06-26 00:00:00</td>\n",
       "      <td>2020-06-29 00:00:00</td>\n",
       "      <td>54.384000</td>\n",
       "      <td>3.000000</td>\n",
       "      <td>8.643600</td>\n",
       "      <td>2020.000000</td>\n",
       "      <td>9.000000</td>\n",
       "      <td>41.661500</td>\n",
       "    </tr>\n",
       "    <tr>\n",
       "      <th>75%</th>\n",
       "      <td>2021-05-14 00:00:00</td>\n",
       "      <td>2021-05-18 00:00:00</td>\n",
       "      <td>209.905000</td>\n",
       "      <td>5.000000</td>\n",
       "      <td>29.315200</td>\n",
       "      <td>2021.000000</td>\n",
       "      <td>11.000000</td>\n",
       "      <td>182.017800</td>\n",
       "    </tr>\n",
       "    <tr>\n",
       "      <th>max</th>\n",
       "      <td>2021-12-30 00:00:00</td>\n",
       "      <td>2022-01-05 00:00:00</td>\n",
       "      <td>22638.480000</td>\n",
       "      <td>14.000000</td>\n",
       "      <td>8399.976000</td>\n",
       "      <td>2021.000000</td>\n",
       "      <td>12.000000</td>\n",
       "      <td>24449.558400</td>\n",
       "    </tr>\n",
       "    <tr>\n",
       "      <th>std</th>\n",
       "      <td>NaN</td>\n",
       "      <td>NaN</td>\n",
       "      <td>621.909610</td>\n",
       "      <td>2.223566</td>\n",
       "      <td>234.122107</td>\n",
       "      <td>1.123750</td>\n",
       "      <td>3.280710</td>\n",
       "      <td>550.052595</td>\n",
       "    </tr>\n",
       "  </tbody>\n",
       "</table>\n",
       "</div>"
      ],
      "text/plain": [
       "                          Order_Date                      Ship_Date  \\\n",
       "count                           9983                           9983   \n",
       "mean   2020-04-29 21:46:43.045176832  2020-05-03 20:46:42.684563712   \n",
       "min              2018-01-03 00:00:00            2018-01-07 00:00:00   \n",
       "25%              2019-05-22 00:00:00            2019-05-26 00:00:00   \n",
       "50%              2020-06-26 00:00:00            2020-06-29 00:00:00   \n",
       "75%              2021-05-14 00:00:00            2021-05-18 00:00:00   \n",
       "max              2021-12-30 00:00:00            2022-01-05 00:00:00   \n",
       "std                              NaN                            NaN   \n",
       "\n",
       "              Sales     Quantity       Profit     Order_Yr    Order_Mon  \\\n",
       "count   9983.000000  9983.000000  9983.000000  9983.000000  9983.000000   \n",
       "mean     229.216818     3.788741    28.463592  2019.721627     7.813783   \n",
       "min        0.444000     1.000000 -6599.978000  2018.000000     1.000000   \n",
       "25%       17.280000     2.000000     1.727100  2019.000000     5.000000   \n",
       "50%       54.384000     3.000000     8.643600  2020.000000     9.000000   \n",
       "75%      209.905000     5.000000    29.315200  2021.000000    11.000000   \n",
       "max    22638.480000    14.000000  8399.976000  2021.000000    12.000000   \n",
       "std      621.909610     2.223566   234.122107     1.123750     3.280710   \n",
       "\n",
       "       cost_of_sales  \n",
       "count    9983.000000  \n",
       "mean      200.753225  \n",
       "min         0.554400  \n",
       "25%        12.688200  \n",
       "50%        41.661500  \n",
       "75%       182.017800  \n",
       "max     24449.558400  \n",
       "std       550.052595  "
      ]
     },
     "execution_count": 26,
     "metadata": {},
     "output_type": "execute_result"
    }
   ],
   "source": [
    "df.describe()"
   ]
  },
  {
   "cell_type": "markdown",
   "id": "ff1ec468-4a4e-406d-bd46-f94ddeef0ba6",
   "metadata": {},
   "source": [
    "# 7. **Check/Handle Categorical/Ordinal Data**"
   ]
  },
  {
   "cell_type": "code",
   "execution_count": 27,
   "id": "586d3372-13b3-4205-9269-19b76a8d371f",
   "metadata": {},
   "outputs": [
    {
     "name": "stdout",
     "output_type": "stream",
     "text": [
      "['Second Class' 'Standard Class' 'First Class' 'Same Day']\n"
     ]
    }
   ],
   "source": [
    "print(df['Ship_Mode'].unique())"
   ]
  },
  {
   "cell_type": "code",
   "execution_count": 28,
   "id": "dc1788ff-63ab-4f34-b930-072e30eef86b",
   "metadata": {},
   "outputs": [
    {
     "name": "stdout",
     "output_type": "stream",
     "text": [
      "Number of unique customers = 793\n"
     ]
    }
   ],
   "source": [
    "print('Number of unique customers =',df['Customer_ID'].nunique())"
   ]
  },
  {
   "cell_type": "code",
   "execution_count": 29,
   "id": "f4f7d997-4e3a-4071-8077-383653ae5516",
   "metadata": {},
   "outputs": [
    {
     "name": "stdout",
     "output_type": "stream",
     "text": [
      "Unique Segments ['Consumer' 'Corporate' 'Home Office']\n"
     ]
    }
   ],
   "source": [
    "print('Unique Segments',df['Segment'].unique())"
   ]
  },
  {
   "cell_type": "code",
   "execution_count": 30,
   "id": "da8d9b7b-e4a4-45b5-a681-f644c37c06ac",
   "metadata": {},
   "outputs": [
    {
     "name": "stdout",
     "output_type": "stream",
     "text": [
      "Number of cities in which products are sold = 531\n"
     ]
    }
   ],
   "source": [
    "print('Number of cities in which products are sold =',df['City'].nunique())"
   ]
  },
  {
   "cell_type": "code",
   "execution_count": 31,
   "id": "3e4875e7-efc8-4cf8-9d11-e0d64e4c3462",
   "metadata": {},
   "outputs": [
    {
     "name": "stdout",
     "output_type": "stream",
     "text": [
      "Number of Cities per state State\n",
      "California              81\n",
      "Texas                   54\n",
      "Florida                 36\n",
      "Illinois                33\n",
      "Ohio                    24\n",
      "Michigan                21\n",
      "North Carolina          19\n",
      "New Jersey              18\n",
      "New York                18\n",
      "Washington              17\n",
      "Colorado                16\n",
      "Tennessee               15\n",
      "Indiana                 15\n",
      "Massachusetts           14\n",
      "Minnesota               13\n",
      "Arizona                 13\n",
      "Wisconsin               13\n",
      "Virginia                13\n",
      "Georgia                 11\n",
      "Connecticut             10\n",
      "Utah                    10\n",
      "Oregon                   9\n",
      "Missouri                 9\n",
      "Arkansas                 9\n",
      "Iowa                     8\n",
      "Alabama                  8\n",
      "Kentucky                 8\n",
      "Pennsylvania             8\n",
      "Maryland                 7\n",
      "Oklahoma                 7\n",
      "New Mexico               7\n",
      "Idaho                    6\n",
      "South Carolina           6\n",
      "Montana                  5\n",
      "Kansas                   5\n",
      "Louisiana                5\n",
      "Nevada                   5\n",
      "Rhode Island             4\n",
      "Mississippi              4\n",
      "Nebraska                 4\n",
      "South Dakota             3\n",
      "Delaware                 3\n",
      "New Hampshire            3\n",
      "Maine                    2\n",
      "District of Columbia     1\n",
      "North Dakota             1\n",
      "West Virginia            1\n",
      "Wyoming                  1\n",
      "Name: City, dtype: int64\n"
     ]
    }
   ],
   "source": [
    "print('Number of Cities per state',df.groupby(['State'])['City'].nunique().sort_values(ascending=False))"
   ]
  },
  {
   "cell_type": "code",
   "execution_count": 32,
   "id": "5a185d0b-8bab-4d6a-ae5b-d9c5845930f0",
   "metadata": {},
   "outputs": [
    {
     "name": "stdout",
     "output_type": "stream",
     "text": [
      "Number of states in which products are sold = 48\n"
     ]
    }
   ],
   "source": [
    "print('Number of states in which products are sold =',df['State'].nunique())"
   ]
  },
  {
   "cell_type": "code",
   "execution_count": 33,
   "id": "b6f9eb75-c816-4681-b8e8-16e7d4e8e8ed",
   "metadata": {},
   "outputs": [
    {
     "name": "stdout",
     "output_type": "stream",
     "text": [
      "Regions ['South' 'West' 'Central' 'East']\n"
     ]
    }
   ],
   "source": [
    "print('Regions',df['Region'].unique())"
   ]
  },
  {
   "cell_type": "code",
   "execution_count": 34,
   "id": "511e4db7-4414-41d4-bdb8-7d282954cc61",
   "metadata": {},
   "outputs": [
    {
     "name": "stdout",
     "output_type": "stream",
     "text": [
      "Number of products = 1861\n"
     ]
    }
   ],
   "source": [
    "print('Number of products =',df['Product_ID'].nunique())"
   ]
  },
  {
   "cell_type": "code",
   "execution_count": 35,
   "id": "d9013f49-1144-4859-9001-38f21eb1356c",
   "metadata": {},
   "outputs": [
    {
     "name": "stdout",
     "output_type": "stream",
     "text": [
      "The Product Categories : ['Furniture' 'Office Supplies' 'Technology']\n"
     ]
    }
   ],
   "source": [
    "print('The Product Categories :',df['Category'].unique())"
   ]
  },
  {
   "cell_type": "code",
   "execution_count": 36,
   "id": "856605aa-8224-447f-8ca0-bac919258fc5",
   "metadata": {},
   "outputs": [
    {
     "name": "stdout",
     "output_type": "stream",
     "text": [
      "The Sub-Categories : ['Bookcases' 'Chairs' 'Labels' 'Tables' 'Storage' 'Furnishings' 'Art'\n",
      " 'Phones' 'Binders' 'Appliances' 'Paper' 'Accessories' 'Envelopes'\n",
      " 'Fasteners' 'Supplies' 'Machines' 'Copiers']\n"
     ]
    }
   ],
   "source": [
    "print('The Sub-Categories :',df['Sub_Category'].unique())"
   ]
  },
  {
   "cell_type": "code",
   "execution_count": 37,
   "id": "f39d3507-abd2-4505-bd38-60234d0adf81",
   "metadata": {},
   "outputs": [
    {
     "name": "stdout",
     "output_type": "stream",
     "text": [
      "The number of subcategories = Category\n",
      "Office Supplies    9\n",
      "Furniture          4\n",
      "Technology         4\n",
      "Name: Sub_Category, dtype: int64\n"
     ]
    }
   ],
   "source": [
    "print('The number of subcategories =',df.groupby('Category')['Sub_Category'].nunique().sort_values(ascending=False))"
   ]
  },
  {
   "cell_type": "code",
   "execution_count": 38,
   "id": "dededd33-4268-472f-8271-878d6ad256fa",
   "metadata": {},
   "outputs": [
    {
     "name": "stdout",
     "output_type": "stream",
     "text": [
      "Product_Name 1848\n"
     ]
    }
   ],
   "source": [
    "print('Product_Name',df['Product_Name'].nunique())"
   ]
  },
  {
   "cell_type": "markdown",
   "id": "9a7ed80c-48a7-4575-a0de-77c66aec1bd0",
   "metadata": {},
   "source": [
    "# Data Exploration"
   ]
  },
  {
   "cell_type": "markdown",
   "id": "8130f3a8-18a7-4881-ad62-c6a843f8fb71",
   "metadata": {},
   "source": [
    "### 1. Analysis of Sales,Cost and Gross Margin"
   ]
  },
  {
   "cell_type": "code",
   "execution_count": 39,
   "id": "36781fc7-d08d-4a5f-98ad-df9a3816257f",
   "metadata": {},
   "outputs": [
    {
     "name": "stdout",
     "output_type": "stream",
     "text": [
      "Total Sales = 2288271.49\n"
     ]
    }
   ],
   "source": [
    "print('Total Sales =',round(df['Sales'].sum(),2))"
   ]
  },
  {
   "cell_type": "code",
   "execution_count": 40,
   "id": "2b569235-75cd-488d-aee9-7aabc8e62fa3",
   "metadata": {},
   "outputs": [
    {
     "name": "stdout",
     "output_type": "stream",
     "text": [
      "Total Cost Sales = 2004119.45\n"
     ]
    }
   ],
   "source": [
    "print('Total Cost Sales =',round(df['cost_of_sales'].sum(),2))"
   ]
  },
  {
   "cell_type": "code",
   "execution_count": 41,
   "id": "d8c4a4ae-f106-4b90-9eb6-698feebd1467",
   "metadata": {},
   "outputs": [
    {
     "name": "stdout",
     "output_type": "stream",
     "text": [
      "Gross Margin = 284152.04\n"
     ]
    }
   ],
   "source": [
    "print('Gross Margin =',round(round(df['Sales'].sum(),2)-round(df['cost_of_sales'].sum(),2),2))"
   ]
  },
  {
   "cell_type": "code",
   "execution_count": 42,
   "id": "71e7de2b-2016-4396-a610-e279700078a4",
   "metadata": {},
   "outputs": [
    {
     "name": "stdout",
     "output_type": "stream",
     "text": [
      "Gross Profit % = 0.12\n"
     ]
    }
   ],
   "source": [
    "print('Gross Profit % =',round(round(round(df['Sales'].sum(),2)-round(df['cost_of_sales'].sum(),2),2)/round(df['Sales'].sum(),2),2))"
   ]
  },
  {
   "cell_type": "code",
   "execution_count": 43,
   "id": "fc5d0826-8e75-465b-aaaa-56d1f03b4a7c",
   "metadata": {},
   "outputs": [
    {
     "data": {
      "text/html": [
       "<div>\n",
       "<style scoped>\n",
       "    .dataframe tbody tr th:only-of-type {\n",
       "        vertical-align: middle;\n",
       "    }\n",
       "\n",
       "    .dataframe tbody tr th {\n",
       "        vertical-align: top;\n",
       "    }\n",
       "\n",
       "    .dataframe thead th {\n",
       "        text-align: right;\n",
       "    }\n",
       "</style>\n",
       "<table border=\"1\" class=\"dataframe\">\n",
       "  <thead>\n",
       "    <tr style=\"text-align: right;\">\n",
       "      <th></th>\n",
       "      <th>Sales</th>\n",
       "      <th>cost_of_sales</th>\n",
       "      <th>Profit</th>\n",
       "    </tr>\n",
       "    <tr>\n",
       "      <th>Order_Yr</th>\n",
       "      <th></th>\n",
       "      <th></th>\n",
       "      <th></th>\n",
       "    </tr>\n",
       "  </thead>\n",
       "  <tbody>\n",
       "    <tr>\n",
       "      <th>2018</th>\n",
       "      <td>484247.4981</td>\n",
       "      <td>434703.5240</td>\n",
       "      <td>49543.9741</td>\n",
       "    </tr>\n",
       "    <tr>\n",
       "      <th>2019</th>\n",
       "      <td>465412.4090</td>\n",
       "      <td>404985.7323</td>\n",
       "      <td>60426.6767</td>\n",
       "    </tr>\n",
       "    <tr>\n",
       "      <th>2020</th>\n",
       "      <td>606238.5380</td>\n",
       "      <td>525232.4391</td>\n",
       "      <td>81006.0989</td>\n",
       "    </tr>\n",
       "    <tr>\n",
       "      <th>2021</th>\n",
       "      <td>732373.0452</td>\n",
       "      <td>639197.7515</td>\n",
       "      <td>93175.2937</td>\n",
       "    </tr>\n",
       "  </tbody>\n",
       "</table>\n",
       "</div>"
      ],
      "text/plain": [
       "                Sales  cost_of_sales      Profit\n",
       "Order_Yr                                        \n",
       "2018      484247.4981    434703.5240  49543.9741\n",
       "2019      465412.4090    404985.7323  60426.6767\n",
       "2020      606238.5380    525232.4391  81006.0989\n",
       "2021      732373.0452    639197.7515  93175.2937"
      ]
     },
     "execution_count": 43,
     "metadata": {},
     "output_type": "execute_result"
    }
   ],
   "source": [
    "df.groupby('Order_Yr')[['Sales','cost_of_sales','Profit']].sum()"
   ]
  },
  {
   "cell_type": "markdown",
   "id": "4b050155-c872-4ff2-b855-09e27f639a6b",
   "metadata": {},
   "source": [
    "###### Yoy change Sales"
   ]
  },
  {
   "cell_type": "code",
   "execution_count": 44,
   "id": "6b8455c6-e136-4c1d-ac2f-552204c9ff85",
   "metadata": {},
   "outputs": [],
   "source": [
    "Years=df.groupby('Order_Yr')['Sales'].sum()"
   ]
  },
  {
   "cell_type": "markdown",
   "id": "9a00afa4-fc5b-438d-92e8-6e4426feb5bb",
   "metadata": {},
   "source": [
    "###### Previous year sales"
   ]
  },
  {
   "cell_type": "code",
   "execution_count": 45,
   "id": "0e48e5f1-a954-4020-b7da-2c54fe300faa",
   "metadata": {},
   "outputs": [],
   "source": [
    "Shift=Years.shift(1)"
   ]
  },
  {
   "cell_type": "markdown",
   "id": "d770a669-c595-40ad-9037-0fb9f0e7292a",
   "metadata": {},
   "source": [
    "###### Yoy percent change"
   ]
  },
  {
   "cell_type": "code",
   "execution_count": 46,
   "id": "42948cc5-f181-47ce-baad-91d2d2926143",
   "metadata": {},
   "outputs": [
    {
     "name": "stdout",
     "output_type": "stream",
     "text": [
      "Yoy% Sales = Order_Yr\n",
      "2018     NaN\n",
      "2019   -0.04\n",
      "2020    0.30\n",
      "2021    0.21\n",
      "Name: Sales, dtype: float64\n"
     ]
    }
   ],
   "source": [
    "print('Yoy% Sales =',round((Years-Shift)/Shift,2))"
   ]
  },
  {
   "cell_type": "markdown",
   "id": "8a49c793-c992-43e4-9bcf-c8ad47ed91f1",
   "metadata": {},
   "source": [
    "##### We can see from the above calculation that sales decreased by 4% from 2018 to 2019.There was tremendous growth from the last two years,2020(30%) and 2021(21%),even though there has been a slight decrease from 2020 to 2021."
   ]
  },
  {
   "cell_type": "markdown",
   "id": "a1a2fff1-4e7c-44b0-82ae-6ad2b05aa598",
   "metadata": {},
   "source": [
    "###### Cost of sales by year"
   ]
  },
  {
   "cell_type": "code",
   "execution_count": 47,
   "id": "4994f26d-af3f-4e68-b252-ccc5621c73ec",
   "metadata": {},
   "outputs": [],
   "source": [
    "Cos_yr=df.groupby('Order_Yr')['cost_of_sales'].sum()"
   ]
  },
  {
   "cell_type": "markdown",
   "id": "a7f3efbe-2d69-4569-af1a-aeac1f12af7d",
   "metadata": {},
   "source": [
    "###### Previous years sales"
   ]
  },
  {
   "cell_type": "code",
   "execution_count": 48,
   "id": "ee044fd3-ed20-4737-a48b-0223bf601d65",
   "metadata": {},
   "outputs": [],
   "source": [
    "Cos_yr_Shift=Cos_yr.shift(1)"
   ]
  },
  {
   "cell_type": "markdown",
   "id": "d84b0697-db43-463f-89b9-a0e51b4bf37c",
   "metadata": {},
   "source": [
    "###### Yoy change %"
   ]
  },
  {
   "cell_type": "code",
   "execution_count": 49,
   "id": "094bde78-ada8-4b9e-80ed-51b5443b78c6",
   "metadata": {},
   "outputs": [
    {
     "name": "stdout",
     "output_type": "stream",
     "text": [
      "Yoy% Cost = Order_Yr\n",
      "2018     NaN\n",
      "2019   -0.07\n",
      "2020    0.30\n",
      "2021    0.22\n",
      "Name: cost_of_sales, dtype: float64\n"
     ]
    }
   ],
   "source": [
    "print('Yoy% Cost =',round((Cos_yr-Cos_yr_Shift)/Cos_yr_Shift,2))"
   ]
  },
  {
   "cell_type": "markdown",
   "id": "c2dca75e-0266-4f88-b4cc-ea5588e6129d",
   "metadata": {},
   "source": [
    "#### Cost of sales also decreased in 2019 in line with downturn in sales.But as observed with sales,there was a massive increase in 2020 and 2021."
   ]
  },
  {
   "cell_type": "markdown",
   "id": "71c9abdf-2c34-4586-97d3-530947fd78ff",
   "metadata": {},
   "source": [
    "### 2. Sales by categorical data"
   ]
  },
  {
   "cell_type": "markdown",
   "id": "a51d62da-61ab-48b7-b026-e7a4c8031d5f",
   "metadata": {},
   "source": [
    "###### Customer Sales"
   ]
  },
  {
   "cell_type": "code",
   "execution_count": 50,
   "id": "e4d80e5d-6c1e-48e7-8b8b-4b97591e77c8",
   "metadata": {},
   "outputs": [
    {
     "name": "stdout",
     "output_type": "stream",
     "text": [
      "Top 10 Customers by Sales Customer_ID\n",
      "SM-20320    25043.050\n",
      "TC-20980    19052.218\n",
      "RB-19360    15117.339\n",
      "TA-21385    14595.620\n",
      "AB-10105    14473.571\n",
      "KL-16645    14175.229\n",
      "SC-20095    14142.334\n",
      "HL-15040    12873.298\n",
      "SE-20110    12209.438\n",
      "CC-12370    12129.072\n",
      "Name: Sales, dtype: float64\n"
     ]
    }
   ],
   "source": [
    "print('Top 10 Customers by Sales',df.groupby('Customer_ID')['Sales'].sum().nlargest(10))"
   ]
  },
  {
   "cell_type": "markdown",
   "id": "eaa815f7-28b2-4f7f-8b8e-8b1b5c84849e",
   "metadata": {},
   "source": [
    "###### City Sales"
   ]
  },
  {
   "cell_type": "code",
   "execution_count": 51,
   "id": "b6300b26-7aa8-4690-bd1c-8de453a2d74e",
   "metadata": {},
   "outputs": [
    {
     "name": "stdout",
     "output_type": "stream",
     "text": [
      "Top 10  City\n",
      "New York City    256368.1610\n",
      "Los Angeles      175851.3410\n",
      "Seattle          119540.7420\n",
      "San Francisco    112669.0920\n",
      "Philadelphia     109077.0130\n",
      "Houston           64504.7604\n",
      "Chicago           48539.5410\n",
      "San Diego         47521.0290\n",
      "Jacksonville      44713.1830\n",
      "Springfield       43054.3420\n",
      "Name: Sales, dtype: float64\n"
     ]
    }
   ],
   "source": [
    "print('Top 10 ',df.groupby('City')['Sales'].sum().nlargest(10))"
   ]
  },
  {
   "cell_type": "markdown",
   "id": "32ac3a9a-860d-4271-8637-7870180f5477",
   "metadata": {},
   "source": [
    "##### The top two cities by sales are New York and Los Angeles"
   ]
  },
  {
   "cell_type": "markdown",
   "id": "15581592-e344-4e3d-81bd-387b77fc1331",
   "metadata": {},
   "source": [
    "###### State Sales"
   ]
  },
  {
   "cell_type": "code",
   "execution_count": 52,
   "id": "4f243dcb-def1-4fd2-b75b-feef0170d068",
   "metadata": {},
   "outputs": [
    {
     "name": "stdout",
     "output_type": "stream",
     "text": [
      "Top 10  State\n",
      "California      457687.6315\n",
      "New York        310876.2710\n",
      "Texas           170188.0458\n",
      "Washington      138641.2700\n",
      "Pennsylvania    116511.9140\n",
      "Florida          89473.7080\n",
      "Illinois         80166.1010\n",
      "Ohio             78258.1360\n",
      "Michigan         76269.6140\n",
      "Virginia         70636.7200\n",
      "Name: Sales, dtype: float64\n"
     ]
    }
   ],
   "source": [
    "print('Top 10 ',df.groupby('State')['Sales'].sum().nlargest(10))"
   ]
  },
  {
   "cell_type": "markdown",
   "id": "dbf1c96b-bce0-4340-9142-c3de9c4d6a0a",
   "metadata": {},
   "source": [
    "##### The top two states by sales are California and New York"
   ]
  },
  {
   "cell_type": "markdown",
   "id": "000ebab6-8ed3-44a2-954d-e6c94f2ffa1d",
   "metadata": {},
   "source": [
    "###### State/City sales"
   ]
  },
  {
   "cell_type": "code",
   "execution_count": 53,
   "id": "2cb1c26e-f9c2-4997-a387-bcedd2b649e1",
   "metadata": {},
   "outputs": [
    {
     "name": "stdout",
     "output_type": "stream",
     "text": [
      "Top 10  State         City         \n",
      "New York      New York City    256368.1610\n",
      "California    Los Angeles      175851.3410\n",
      "Washington    Seattle          119540.7420\n",
      "California    San Francisco    112669.0920\n",
      "Pennsylvania  Philadelphia     109077.0130\n",
      "Texas         Houston           64504.7604\n",
      "Illinois      Chicago           48539.5410\n",
      "California    San Diego         47521.0290\n",
      "Michigan      Detroit           42446.9440\n",
      "Florida       Jacksonville      39133.3280\n",
      "Name: Sales, dtype: float64\n"
     ]
    }
   ],
   "source": [
    "print('Top 10 ',df.groupby(['State','City'])['Sales'].sum().nlargest(10))"
   ]
  },
  {
   "cell_type": "markdown",
   "id": "b78dcb22-0679-429c-8112-2e1d12c598f4",
   "metadata": {},
   "source": [
    "##### The top two cities by state are New York city and Los Angeles"
   ]
  },
  {
   "cell_type": "markdown",
   "id": "eaa4d426-f7e3-4a62-89c9-6305b469ab2e",
   "metadata": {},
   "source": [
    "###### Regional Sales"
   ]
  },
  {
   "cell_type": "code",
   "execution_count": 54,
   "id": "f59f5099-3462-4db5-8589-39a0850d1d2a",
   "metadata": {},
   "outputs": [
    {
     "data": {
      "text/plain": [
       "Region\n",
       "West       725457.8245\n",
       "East       669851.8700\n",
       "Central    501239.8908\n",
       "South      391721.9050\n",
       "Name: Sales, dtype: float64"
      ]
     },
     "execution_count": 54,
     "metadata": {},
     "output_type": "execute_result"
    }
   ],
   "source": [
    "df.groupby('Region')['Sales'].sum().sort_values(ascending=False)"
   ]
  },
  {
   "cell_type": "markdown",
   "id": "9f769aa9-d8c5-40f6-896c-9517160cc319",
   "metadata": {},
   "source": [
    "###### State/Region Sales"
   ]
  },
  {
   "cell_type": "code",
   "execution_count": 55,
   "id": "db149e39-8ad0-49d3-8ffe-44e004c27b8a",
   "metadata": {},
   "outputs": [
    {
     "name": "stdout",
     "output_type": "stream",
     "text": [
      "Top 10  State         Region \n",
      "California    West       457687.6315\n",
      "New York      East       310876.2710\n",
      "Texas         Central    170188.0458\n",
      "Washington    West       138641.2700\n",
      "Pennsylvania  East       116511.9140\n",
      "Florida       South       89473.7080\n",
      "Illinois      Central     80166.1010\n",
      "Ohio          East        78258.1360\n",
      "Michigan      Central     76269.6140\n",
      "Virginia      South       70636.7200\n",
      "Name: Sales, dtype: float64\n"
     ]
    }
   ],
   "source": [
    "print('Top 10 ',df.groupby(['State','Region'])['Sales'].sum().nlargest(10))"
   ]
  },
  {
   "cell_type": "markdown",
   "id": "908dc37b-2839-43e3-a31e-cd77dcce9a4b",
   "metadata": {},
   "source": [
    "##### The top two regions are the west and east regions which is in line with State/City analysis "
   ]
  },
  {
   "cell_type": "markdown",
   "id": "80427061-63cb-4c6e-ab3b-ebadd531e344",
   "metadata": {},
   "source": [
    "###### Category/Subcategory sales"
   ]
  },
  {
   "cell_type": "code",
   "execution_count": 56,
   "id": "082afb33-dd65-408b-add7-25cf8b797d90",
   "metadata": {},
   "outputs": [
    {
     "name": "stdout",
     "output_type": "stream",
     "text": [
      "Top 10  Category         Sub_Category\n",
      "Technology       Phones          328712.3040\n",
      "Furniture        Chairs          327733.9030\n",
      "Office Supplies  Storage         222279.3180\n",
      "Furniture        Tables          206965.5320\n",
      "Office Supplies  Binders         203412.7330\n",
      "Technology       Machines        189238.6310\n",
      "                 Accessories     167075.3080\n",
      "                 Copiers         149528.0300\n",
      "Furniture        Bookcases       110475.0963\n",
      "Office Supplies  Appliances      106989.2210\n",
      "Name: Sales, dtype: float64\n"
     ]
    }
   ],
   "source": [
    "print('Top 10 ',df.groupby(['Category','Sub_Category'])['Sales'].sum().nlargest(10))"
   ]
  },
  {
   "cell_type": "markdown",
   "id": "ea383cce-0b2b-4614-8b3d-434e3882fe6b",
   "metadata": {},
   "source": [
    "##### The top selling categories are technology and furniture in which cellphones and tables are the top selling subcategories"
   ]
  },
  {
   "cell_type": "markdown",
   "id": "8ca6731e-f262-461e-aad6-bd6fe95b5ee7",
   "metadata": {},
   "source": [
    "### 3. Analysis of Quantities Sold"
   ]
  },
  {
   "cell_type": "markdown",
   "id": "f44b5198-95d3-4566-ae7c-cae301cb6508",
   "metadata": {},
   "source": [
    "###### Total Quantities Sold"
   ]
  },
  {
   "cell_type": "code",
   "execution_count": 57,
   "id": "3c2ee42f-604c-4177-9866-2cd0316828d4",
   "metadata": {},
   "outputs": [
    {
     "name": "stdout",
     "output_type": "stream",
     "text": [
      "Total Quantity Sold = 37823\n"
     ]
    }
   ],
   "source": [
    "print('Total Quantity Sold =',df['Quantity'].sum())"
   ]
  },
  {
   "cell_type": "markdown",
   "id": "678bd06a-4a9b-43c0-be6e-ea62c5327f5f",
   "metadata": {},
   "source": [
    "###### Quantities sold by year"
   ]
  },
  {
   "cell_type": "code",
   "execution_count": 58,
   "id": "99ed86a7-e9e2-445d-a051-08fbd1292b12",
   "metadata": {},
   "outputs": [
    {
     "data": {
      "text/plain": [
       "Order_Yr\n",
       "2018     7581\n",
       "2019     7971\n",
       "2020     9811\n",
       "2021    12460\n",
       "Name: Quantity, dtype: int64"
      ]
     },
     "execution_count": 58,
     "metadata": {},
     "output_type": "execute_result"
    }
   ],
   "source": [
    "df.groupby('Order_Yr')['Quantity'].sum()"
   ]
  },
  {
   "cell_type": "markdown",
   "id": "75eb9df4-3634-43b5-89e1-06d9eef00ca9",
   "metadata": {},
   "source": [
    "###### YOY change "
   ]
  },
  {
   "cell_type": "code",
   "execution_count": 59,
   "id": "681a86cd-160e-4a8c-a5f4-28d69cbfd790",
   "metadata": {},
   "outputs": [],
   "source": [
    "Qty_yr=df.groupby('Order_Yr')['Quantity'].sum()"
   ]
  },
  {
   "cell_type": "code",
   "execution_count": 60,
   "id": "47639765-da68-4c7f-b94a-8e82cfed5e21",
   "metadata": {},
   "outputs": [],
   "source": [
    "Qty_shift=Qty_yr.shift(1)"
   ]
  },
  {
   "cell_type": "code",
   "execution_count": 61,
   "id": "87940966-3a90-40a4-8209-9930bfc288df",
   "metadata": {},
   "outputs": [
    {
     "name": "stdout",
     "output_type": "stream",
     "text": [
      "Yoy% Order_Yr\n",
      "2018     NaN\n",
      "2019    0.05\n",
      "2020    0.23\n",
      "2021    0.27\n",
      "Name: Quantity, dtype: float64\n"
     ]
    }
   ],
   "source": [
    "print('Yoy%',round((Qty_yr-Qty_shift)/Qty_shift,2))"
   ]
  },
  {
   "cell_type": "markdown",
   "id": "20c8a024-9628-4c0e-bbfd-7dde25ef6592",
   "metadata": {},
   "source": [
    "#### Quantities sold have been increasing consistently over the years,which suggests that consumer spending is very healthy at the moment."
   ]
  },
  {
   "cell_type": "markdown",
   "id": "022b5d46-cbe1-4445-970b-678a8bf3bfeb",
   "metadata": {},
   "source": [
    "### 4. Quantity by Categorical data"
   ]
  },
  {
   "cell_type": "markdown",
   "id": "efe13b5d-629e-4580-8416-effbd1b80fc6",
   "metadata": {},
   "source": [
    "###### Customers by quantity"
   ]
  },
  {
   "cell_type": "code",
   "execution_count": 62,
   "id": "8d3241f1-d4d6-4fce-b099-c01144ce9484",
   "metadata": {},
   "outputs": [
    {
     "name": "stdout",
     "output_type": "stream",
     "text": [
      "Top 10  Customer_ID\n",
      "JD-15895    150\n",
      "WB-21850    146\n",
      "JL-15835    143\n",
      "PP-18955    138\n",
      "SC-20725    133\n",
      "EP-13915    124\n",
      "CB-12025    122\n",
      "CK-12205    122\n",
      "EH-13765    120\n",
      "MA-17560    117\n",
      "Name: Quantity, dtype: int64\n"
     ]
    }
   ],
   "source": [
    "print('Top 10 ',df.groupby('Customer_ID')['Quantity'].sum().nlargest(10))"
   ]
  },
  {
   "cell_type": "markdown",
   "id": "cd50d3ff-e490-4a6c-812c-9bddedc99391",
   "metadata": {},
   "source": [
    "#### This is very interesting that the top customer by dollar spent is different from customer by quantity,which would suggest that dollar spent customer is purchasing high value items."
   ]
  },
  {
   "cell_type": "markdown",
   "id": "3a10a7e3-6c34-4568-86dd-345bdb475cd8",
   "metadata": {},
   "source": [
    "###### Segment Quantities"
   ]
  },
  {
   "cell_type": "code",
   "execution_count": 63,
   "id": "526baced-fcbd-4721-9f03-841b1d34ff6c",
   "metadata": {},
   "outputs": [
    {
     "data": {
      "text/plain": [
       "Segment\n",
       "Consumer       19509\n",
       "Corporate      11575\n",
       "Home Office     6739\n",
       "Name: Quantity, dtype: int64"
      ]
     },
     "execution_count": 63,
     "metadata": {},
     "output_type": "execute_result"
    }
   ],
   "source": [
    "df.groupby('Segment')['Quantity'].sum()"
   ]
  },
  {
   "cell_type": "markdown",
   "id": "1eae7210-7935-4f60-83c8-371c54720a4d",
   "metadata": {},
   "source": [
    "#### This further enhances the consumer spend health as the top segment is the consumer which far outsrips the corporate segment."
   ]
  },
  {
   "cell_type": "markdown",
   "id": "f8b18396-aedb-46d4-8da9-c6b212023b4c",
   "metadata": {},
   "source": [
    "###### City Quantities"
   ]
  },
  {
   "cell_type": "code",
   "execution_count": 64,
   "id": "fa1ea199-adc5-4309-81cb-82040b9ca4bf",
   "metadata": {},
   "outputs": [
    {
     "name": "stdout",
     "output_type": "stream",
     "text": [
      "Top 10  City\n",
      "New York City    3417\n",
      "Los Angeles      2879\n",
      "Philadelphia     1981\n",
      "San Francisco    1935\n",
      "Seattle          1590\n",
      "Houston          1466\n",
      "Chicago          1132\n",
      "Columbus          836\n",
      "San Diego         670\n",
      "Springfield       649\n",
      "Name: Quantity, dtype: int64\n"
     ]
    }
   ],
   "source": [
    "print('Top 10 ',df.groupby('City')['Quantity'].sum().nlargest(10))"
   ]
  },
  {
   "cell_type": "markdown",
   "id": "37464956-b086-4dde-84d2-93e456eca050",
   "metadata": {},
   "source": [
    "#### No suprises,as we observed earlier with dollars spent,the top two are still New York and Los Angeles"
   ]
  },
  {
   "cell_type": "markdown",
   "id": "c3aa6616-aec1-4762-97e4-d908423f6473",
   "metadata": {},
   "source": [
    "######  State Quantities"
   ]
  },
  {
   "cell_type": "code",
   "execution_count": 65,
   "id": "85ce1685-cf51-4090-a1f1-fa6e2c83dda3",
   "metadata": {},
   "outputs": [
    {
     "name": "stdout",
     "output_type": "stream",
     "text": [
      "Top 10  State\n",
      "California        7667\n",
      "New York          4224\n",
      "Texas             3724\n",
      "Pennsylvania      2153\n",
      "Washington        1883\n",
      "Illinois          1845\n",
      "Ohio              1759\n",
      "Florida           1379\n",
      "North Carolina     983\n",
      "Michigan           946\n",
      "Name: Quantity, dtype: int64\n"
     ]
    }
   ],
   "source": [
    "print('Top 10 ',df.groupby('State')['Quantity'].sum().nlargest(10))"
   ]
  },
  {
   "cell_type": "markdown",
   "id": "2d811732-3512-4e0c-8636-709734b47de2",
   "metadata": {},
   "source": [
    "#### Again no suprises,the top two are still California and New York"
   ]
  },
  {
   "cell_type": "markdown",
   "id": "de0d5fa5-1401-493e-b38d-d966dfb5a5a9",
   "metadata": {},
   "source": [
    "###### State/City quantities"
   ]
  },
  {
   "cell_type": "code",
   "execution_count": 66,
   "id": "cfdccd16-9f07-4105-a1b0-4dafbd4408c1",
   "metadata": {},
   "outputs": [
    {
     "name": "stdout",
     "output_type": "stream",
     "text": [
      "Top 10  State         City         \n",
      "New York      New York City    3417\n",
      "California    Los Angeles      2879\n",
      "Pennsylvania  Philadelphia     1981\n",
      "California    San Francisco    1935\n",
      "Washington    Seattle          1590\n",
      "Texas         Houston          1466\n",
      "Illinois      Chicago          1132\n",
      "California    San Diego         670\n",
      "Texas         Dallas            555\n",
      "Ohio          Columbus          464\n",
      "Name: Quantity, dtype: int64\n"
     ]
    }
   ],
   "source": [
    "print('Top 10 ',df.groupby(['State','City'])['Quantity'].sum().nlargest(10))"
   ]
  },
  {
   "cell_type": "markdown",
   "id": "56386430-74c3-4901-b1a3-519079b0efbb",
   "metadata": {},
   "source": [
    "#### Same as the dollar spent anlaysis no difference when it comes to quantity"
   ]
  },
  {
   "cell_type": "markdown",
   "id": "4c00d64e-1b49-4839-9cb6-9442a071cc5c",
   "metadata": {},
   "source": [
    "###### State/Region quantities"
   ]
  },
  {
   "cell_type": "code",
   "execution_count": 67,
   "id": "04ab213c-7f33-460d-bd1d-a021c142e830",
   "metadata": {},
   "outputs": [
    {
     "name": "stdout",
     "output_type": "stream",
     "text": [
      "Top 10  State           Region \n",
      "California      West       7667\n",
      "New York        East       4224\n",
      "Texas           Central    3724\n",
      "Pennsylvania    East       2153\n",
      "Washington      West       1883\n",
      "Illinois        Central    1845\n",
      "Ohio            East       1759\n",
      "Florida         South      1379\n",
      "North Carolina  South       983\n",
      "Michigan        Central     946\n",
      "Name: Quantity, dtype: int64\n"
     ]
    }
   ],
   "source": [
    "print('Top 10 ',df.groupby(['State','Region'])['Quantity'].sum().nlargest(10))"
   ]
  },
  {
   "cell_type": "markdown",
   "id": "6270801f-7c91-4adb-8f34-1a56e0b31aa2",
   "metadata": {},
   "source": [
    "#### Again with region the quantities sold resemble the dollar spend above"
   ]
  },
  {
   "cell_type": "markdown",
   "id": "2f2fddca-ed97-4a3a-98a1-c11ff63e3b93",
   "metadata": {},
   "source": [
    "###### Category/Subcategory Quantities"
   ]
  },
  {
   "cell_type": "code",
   "execution_count": 68,
   "id": "5680082d-0dc2-406c-b285-58c5ad9bca8a",
   "metadata": {},
   "outputs": [
    {
     "name": "stdout",
     "output_type": "stream",
     "text": [
      "Top 10  Category         Sub_Category\n",
      "Office Supplies  Binders         5974\n",
      "                 Paper           5173\n",
      "Furniture        Furnishings     3563\n",
      "Technology       Phones          3284\n",
      "Office Supplies  Storage         3145\n",
      "                 Art             2994\n",
      "Technology       Accessories     2967\n",
      "Furniture        Chairs          2353\n",
      "Office Supplies  Appliances      1726\n",
      "                 Labels          1400\n",
      "Name: Quantity, dtype: int64\n"
     ]
    }
   ],
   "source": [
    "print('Top 10 ',df.groupby(['Category','Sub_Category'])['Quantity'].sum().nlargest(10))"
   ]
  },
  {
   "cell_type": "markdown",
   "id": "d7be0729-8d18-4503-9b58-470e096b050f",
   "metadata": {},
   "source": [
    "#### There is a massive difference between dollar spend and quantities sold.With regards to dollar spend the cellphones and tables subcategories were the top two,yet with quantities sold firstly the category has changed to Office Supplies and subcategories is Binders and Paper.Which would require further anlaysis to find the top segment with the highest sales quantities."
   ]
  },
  {
   "cell_type": "markdown",
   "id": "de6a9930-a31d-435a-ac8d-b545fe664601",
   "metadata": {},
   "source": [
    "###### Busiest Periods "
   ]
  },
  {
   "cell_type": "code",
   "execution_count": 69,
   "id": "5c19513a-bf3c-4b28-907d-68deb83ebd28",
   "metadata": {},
   "outputs": [
    {
     "data": {
      "text/html": [
       "<div>\n",
       "<style scoped>\n",
       "    .dataframe tbody tr th:only-of-type {\n",
       "        vertical-align: middle;\n",
       "    }\n",
       "\n",
       "    .dataframe tbody tr th {\n",
       "        vertical-align: top;\n",
       "    }\n",
       "\n",
       "    .dataframe thead th {\n",
       "        text-align: right;\n",
       "    }\n",
       "</style>\n",
       "<table border=\"1\" class=\"dataframe\">\n",
       "  <thead>\n",
       "    <tr style=\"text-align: right;\">\n",
       "      <th></th>\n",
       "      <th></th>\n",
       "      <th>Sales</th>\n",
       "      <th>Quantity</th>\n",
       "    </tr>\n",
       "    <tr>\n",
       "      <th>Order_Yr</th>\n",
       "      <th>Order_Mon</th>\n",
       "      <th></th>\n",
       "      <th></th>\n",
       "    </tr>\n",
       "  </thead>\n",
       "  <tbody>\n",
       "    <tr>\n",
       "      <th rowspan=\"12\" valign=\"top\">2018</th>\n",
       "      <th>1</th>\n",
       "      <td>14236.8950</td>\n",
       "      <td>284</td>\n",
       "    </tr>\n",
       "    <tr>\n",
       "      <th>2</th>\n",
       "      <td>4519.8920</td>\n",
       "      <td>159</td>\n",
       "    </tr>\n",
       "    <tr>\n",
       "      <th>3</th>\n",
       "      <td>55691.0090</td>\n",
       "      <td>585</td>\n",
       "    </tr>\n",
       "    <tr>\n",
       "      <th>4</th>\n",
       "      <td>28295.3450</td>\n",
       "      <td>536</td>\n",
       "    </tr>\n",
       "    <tr>\n",
       "      <th>5</th>\n",
       "      <td>23648.2870</td>\n",
       "      <td>466</td>\n",
       "    </tr>\n",
       "    <tr>\n",
       "      <th>6</th>\n",
       "      <td>34595.1276</td>\n",
       "      <td>521</td>\n",
       "    </tr>\n",
       "    <tr>\n",
       "      <th>7</th>\n",
       "      <td>33946.3930</td>\n",
       "      <td>550</td>\n",
       "    </tr>\n",
       "    <tr>\n",
       "      <th>8</th>\n",
       "      <td>27909.4685</td>\n",
       "      <td>609</td>\n",
       "    </tr>\n",
       "    <tr>\n",
       "      <th>9</th>\n",
       "      <td>81777.3508</td>\n",
       "      <td>1000</td>\n",
       "    </tr>\n",
       "    <tr>\n",
       "      <th>10</th>\n",
       "      <td>31453.3930</td>\n",
       "      <td>573</td>\n",
       "    </tr>\n",
       "    <tr>\n",
       "      <th>11</th>\n",
       "      <td>78628.7167</td>\n",
       "      <td>1219</td>\n",
       "    </tr>\n",
       "    <tr>\n",
       "      <th>12</th>\n",
       "      <td>69545.6205</td>\n",
       "      <td>1079</td>\n",
       "    </tr>\n",
       "    <tr>\n",
       "      <th rowspan=\"12\" valign=\"top\">2019</th>\n",
       "      <th>1</th>\n",
       "      <td>18174.0756</td>\n",
       "      <td>236</td>\n",
       "    </tr>\n",
       "    <tr>\n",
       "      <th>2</th>\n",
       "      <td>11951.4110</td>\n",
       "      <td>239</td>\n",
       "    </tr>\n",
       "    <tr>\n",
       "      <th>3</th>\n",
       "      <td>38726.2520</td>\n",
       "      <td>515</td>\n",
       "    </tr>\n",
       "    <tr>\n",
       "      <th>4</th>\n",
       "      <td>34195.2085</td>\n",
       "      <td>543</td>\n",
       "    </tr>\n",
       "    <tr>\n",
       "      <th>5</th>\n",
       "      <td>30131.6865</td>\n",
       "      <td>575</td>\n",
       "    </tr>\n",
       "    <tr>\n",
       "      <th>6</th>\n",
       "      <td>24797.2920</td>\n",
       "      <td>486</td>\n",
       "    </tr>\n",
       "    <tr>\n",
       "      <th>7</th>\n",
       "      <td>28765.3250</td>\n",
       "      <td>557</td>\n",
       "    </tr>\n",
       "    <tr>\n",
       "      <th>8</th>\n",
       "      <td>36898.3322</td>\n",
       "      <td>598</td>\n",
       "    </tr>\n",
       "    <tr>\n",
       "      <th>9</th>\n",
       "      <td>64595.9180</td>\n",
       "      <td>1086</td>\n",
       "    </tr>\n",
       "    <tr>\n",
       "      <th>10</th>\n",
       "      <td>31404.9235</td>\n",
       "      <td>631</td>\n",
       "    </tr>\n",
       "    <tr>\n",
       "      <th>11</th>\n",
       "      <td>70852.4635</td>\n",
       "      <td>1302</td>\n",
       "    </tr>\n",
       "    <tr>\n",
       "      <th>12</th>\n",
       "      <td>74919.5212</td>\n",
       "      <td>1203</td>\n",
       "    </tr>\n",
       "    <tr>\n",
       "      <th rowspan=\"12\" valign=\"top\">2020</th>\n",
       "      <th>1</th>\n",
       "      <td>16870.1810</td>\n",
       "      <td>337</td>\n",
       "    </tr>\n",
       "    <tr>\n",
       "      <th>2</th>\n",
       "      <td>22978.8150</td>\n",
       "      <td>306</td>\n",
       "    </tr>\n",
       "    <tr>\n",
       "      <th>3</th>\n",
       "      <td>51715.8750</td>\n",
       "      <td>579</td>\n",
       "    </tr>\n",
       "    <tr>\n",
       "      <th>4</th>\n",
       "      <td>37455.2890</td>\n",
       "      <td>630</td>\n",
       "    </tr>\n",
       "    <tr>\n",
       "      <th>5</th>\n",
       "      <td>56987.7280</td>\n",
       "      <td>863</td>\n",
       "    </tr>\n",
       "    <tr>\n",
       "      <th>6</th>\n",
       "      <td>40344.5340</td>\n",
       "      <td>742</td>\n",
       "    </tr>\n",
       "    <tr>\n",
       "      <th>7</th>\n",
       "      <td>39261.9630</td>\n",
       "      <td>758</td>\n",
       "    </tr>\n",
       "    <tr>\n",
       "      <th>8</th>\n",
       "      <td>31115.3743</td>\n",
       "      <td>693</td>\n",
       "    </tr>\n",
       "    <tr>\n",
       "      <th>9</th>\n",
       "      <td>73410.0249</td>\n",
       "      <td>1316</td>\n",
       "    </tr>\n",
       "    <tr>\n",
       "      <th>10</th>\n",
       "      <td>59687.7450</td>\n",
       "      <td>767</td>\n",
       "    </tr>\n",
       "    <tr>\n",
       "      <th>11</th>\n",
       "      <td>79411.9658</td>\n",
       "      <td>1406</td>\n",
       "    </tr>\n",
       "    <tr>\n",
       "      <th>12</th>\n",
       "      <td>96999.0430</td>\n",
       "      <td>1414</td>\n",
       "    </tr>\n",
       "    <tr>\n",
       "      <th rowspan=\"12\" valign=\"top\">2021</th>\n",
       "      <th>1</th>\n",
       "      <td>43334.1940</td>\n",
       "      <td>588</td>\n",
       "    </tr>\n",
       "    <tr>\n",
       "      <th>2</th>\n",
       "      <td>20301.1334</td>\n",
       "      <td>363</td>\n",
       "    </tr>\n",
       "    <tr>\n",
       "      <th>3</th>\n",
       "      <td>58872.3528</td>\n",
       "      <td>885</td>\n",
       "    </tr>\n",
       "    <tr>\n",
       "      <th>4</th>\n",
       "      <td>36521.5361</td>\n",
       "      <td>733</td>\n",
       "    </tr>\n",
       "    <tr>\n",
       "      <th>5</th>\n",
       "      <td>44261.1102</td>\n",
       "      <td>887</td>\n",
       "    </tr>\n",
       "    <tr>\n",
       "      <th>6</th>\n",
       "      <td>52981.7257</td>\n",
       "      <td>931</td>\n",
       "    </tr>\n",
       "    <tr>\n",
       "      <th>7</th>\n",
       "      <td>45264.4160</td>\n",
       "      <td>840</td>\n",
       "    </tr>\n",
       "    <tr>\n",
       "      <th>8</th>\n",
       "      <td>63120.8880</td>\n",
       "      <td>884</td>\n",
       "    </tr>\n",
       "    <tr>\n",
       "      <th>9</th>\n",
       "      <td>87866.6520</td>\n",
       "      <td>1660</td>\n",
       "    </tr>\n",
       "    <tr>\n",
       "      <th>10</th>\n",
       "      <td>77776.9232</td>\n",
       "      <td>1133</td>\n",
       "    </tr>\n",
       "    <tr>\n",
       "      <th>11</th>\n",
       "      <td>118447.8250</td>\n",
       "      <td>1840</td>\n",
       "    </tr>\n",
       "    <tr>\n",
       "      <th>12</th>\n",
       "      <td>83624.2888</td>\n",
       "      <td>1716</td>\n",
       "    </tr>\n",
       "  </tbody>\n",
       "</table>\n",
       "</div>"
      ],
      "text/plain": [
       "                          Sales  Quantity\n",
       "Order_Yr Order_Mon                       \n",
       "2018     1           14236.8950       284\n",
       "         2            4519.8920       159\n",
       "         3           55691.0090       585\n",
       "         4           28295.3450       536\n",
       "         5           23648.2870       466\n",
       "         6           34595.1276       521\n",
       "         7           33946.3930       550\n",
       "         8           27909.4685       609\n",
       "         9           81777.3508      1000\n",
       "         10          31453.3930       573\n",
       "         11          78628.7167      1219\n",
       "         12          69545.6205      1079\n",
       "2019     1           18174.0756       236\n",
       "         2           11951.4110       239\n",
       "         3           38726.2520       515\n",
       "         4           34195.2085       543\n",
       "         5           30131.6865       575\n",
       "         6           24797.2920       486\n",
       "         7           28765.3250       557\n",
       "         8           36898.3322       598\n",
       "         9           64595.9180      1086\n",
       "         10          31404.9235       631\n",
       "         11          70852.4635      1302\n",
       "         12          74919.5212      1203\n",
       "2020     1           16870.1810       337\n",
       "         2           22978.8150       306\n",
       "         3           51715.8750       579\n",
       "         4           37455.2890       630\n",
       "         5           56987.7280       863\n",
       "         6           40344.5340       742\n",
       "         7           39261.9630       758\n",
       "         8           31115.3743       693\n",
       "         9           73410.0249      1316\n",
       "         10          59687.7450       767\n",
       "         11          79411.9658      1406\n",
       "         12          96999.0430      1414\n",
       "2021     1           43334.1940       588\n",
       "         2           20301.1334       363\n",
       "         3           58872.3528       885\n",
       "         4           36521.5361       733\n",
       "         5           44261.1102       887\n",
       "         6           52981.7257       931\n",
       "         7           45264.4160       840\n",
       "         8           63120.8880       884\n",
       "         9           87866.6520      1660\n",
       "         10          77776.9232      1133\n",
       "         11         118447.8250      1840\n",
       "         12          83624.2888      1716"
      ]
     },
     "execution_count": 69,
     "metadata": {},
     "output_type": "execute_result"
    }
   ],
   "source": [
    "df.groupby(['Order_Yr','Order_Mon'])[['Sales','Quantity']].sum()"
   ]
  },
  {
   "cell_type": "code",
   "execution_count": null,
   "id": "962b8830-6ceb-48f4-ad08-d1ad6736531c",
   "metadata": {},
   "outputs": [],
   "source": []
  }
 ],
 "metadata": {
  "kernelspec": {
   "display_name": "Python 3 (ipykernel)",
   "language": "python",
   "name": "python3"
  },
  "language_info": {
   "codemirror_mode": {
    "name": "ipython",
    "version": 3
   },
   "file_extension": ".py",
   "mimetype": "text/x-python",
   "name": "python",
   "nbconvert_exporter": "python",
   "pygments_lexer": "ipython3",
   "version": "3.13.3"
  }
 },
 "nbformat": 4,
 "nbformat_minor": 5
}
